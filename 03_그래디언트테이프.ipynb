{
  "nbformat": 4,
  "nbformat_minor": 0,
  "metadata": {
    "colab": {
      "provenance": [],
      "authorship_tag": "ABX9TyOSx3HVeemx0gGw/vxVFSSN",
      "include_colab_link": true
    },
    "kernelspec": {
      "name": "python3",
      "display_name": "Python 3"
    },
    "language_info": {
      "name": "python"
    }
  },
  "cells": [
    {
      "cell_type": "markdown",
      "metadata": {
        "id": "view-in-github",
        "colab_type": "text"
      },
      "source": [
        "<a href=\"https://colab.research.google.com/github/selina7704/DeepLearning/blob/main/03_%EA%B7%B8%EB%9E%98%EB%94%94%EC%96%B8%ED%8A%B8%ED%85%8C%EC%9D%B4%ED%94%84.ipynb\" target=\"_parent\"><img src=\"https://colab.research.google.com/assets/colab-badge.svg\" alt=\"Open In Colab\"/></a>"
      ]
    },
    {
      "cell_type": "code",
      "execution_count": 3,
      "metadata": {
        "colab": {
          "base_uri": "https://localhost:8080/"
        },
        "id": "CKA-31a_ZzWz",
        "outputId": "ed570a74-f938-40c2-c0aa-9c297e354bdc"
      },
      "outputs": [
        {
          "output_type": "execute_result",
          "data": {
            "text/plain": [
              "<tf.Tensor: shape=(), dtype=float32, numpy=2.0>"
            ]
          },
          "metadata": {},
          "execution_count": 3
        }
      ],
      "source": [
        "import tensorflow as tf\n",
        "\n",
        "# 1. scala 값의 기울기 계산\n",
        "x = tf.Variable(0.)\n",
        "\n",
        "with tf.GradientTape() as tape:\n",
        "  # y를 계산하기 위한 규칙\n",
        "    y = 2*x + 3\n",
        "\n",
        "grad_y_x = tape.gradient(y, x)\n",
        "grad_y_x\n"
      ]
    },
    {
      "cell_type": "code",
      "source": [
        "# 2. 행렬의 기울기 계산\n",
        "\n",
        "x = tf.Variable(tf.zeros((2,2)))\n",
        "x\n"
      ],
      "metadata": {
        "colab": {
          "base_uri": "https://localhost:8080/"
        },
        "id": "WKXJEpkCaFU5",
        "outputId": "68d0b524-890d-4ecd-aa86-2b2fc4ddec63"
      },
      "execution_count": 7,
      "outputs": [
        {
          "output_type": "execute_result",
          "data": {
            "text/plain": [
              "<tf.Variable 'Variable:0' shape=(2, 2) dtype=float32, numpy=\n",
              "array([[0., 0.],\n",
              "       [0., 0.]], dtype=float32)>"
            ]
          },
          "metadata": {},
          "execution_count": 7
        }
      ]
    },
    {
      "cell_type": "code",
      "source": [
        "with tf.GradientTape() as tape:\n",
        "  y = 2*x + 3\n",
        "\n",
        "grad_y_x = tape.gradient(y, x)\n",
        "grad_y_x"
      ],
      "metadata": {
        "colab": {
          "base_uri": "https://localhost:8080/"
        },
        "id": "5mqwPhnJbMM3",
        "outputId": "82f59953-06a3-4829-897b-c16b8342fcbe"
      },
      "execution_count": 8,
      "outputs": [
        {
          "output_type": "execute_result",
          "data": {
            "text/plain": [
              "<tf.Tensor: shape=(2, 2), dtype=float32, numpy=\n",
              "array([[2., 2.],\n",
              "       [2., 2.]], dtype=float32)>"
            ]
          },
          "metadata": {},
          "execution_count": 8
        }
      ]
    },
    {
      "cell_type": "code",
      "source": [
        "# 3. 선형함수의 기울기 w 계산\n",
        "\n",
        "# 가중치 = 기울기\n",
        "W = tf.Variable(tf.random.uniform((2,2)))\n",
        "b = tf.Variable(tf.zeros((2,)))\n",
        "\n",
        "x = tf.random.uniform((2,2))\n",
        "\n",
        "with tf.GradientTape() as tape:\n",
        "  y = tf.matmul(W, x) + b # W*x, 선형함수식\n",
        "\n",
        "grad_y_x = tape.gradient(y, [W,b]) # 편미분\n",
        "grad_y_x"
      ],
      "metadata": {
        "colab": {
          "base_uri": "https://localhost:8080/"
        },
        "id": "c9SJFjKZbaGX",
        "outputId": "b0cdfdb5-b656-4fd5-edf6-6c387da305ea"
      },
      "execution_count": 19,
      "outputs": [
        {
          "output_type": "execute_result",
          "data": {
            "text/plain": [
              "[<tf.Tensor: shape=(2, 2), dtype=float32, numpy=\n",
              " array([[1.2532598, 1.1193832],\n",
              "        [1.2532598, 1.1193832]], dtype=float32)>,\n",
              " <tf.Tensor: shape=(2,), dtype=float32, numpy=array([2., 2.], dtype=float32)>]"
            ]
          },
          "metadata": {},
          "execution_count": 19
        }
      ]
    },
    {
      "cell_type": "code",
      "source": [],
      "metadata": {
        "id": "zkimt1X_cGYb"
      },
      "execution_count": null,
      "outputs": []
    }
  ]
}